{
 "cells": [
  {
   "cell_type": "code",
   "execution_count": 1,
   "metadata": {},
   "outputs": [],
   "source": [
    "import os\n",
    "import numpy as np\n",
    "import matplotlib.pyplot as plt\n",
    "from tensorflow.keras import backend as K\n",
    "import skfuzzy as fuzz\n",
    "from scipy.stats import multivariate_normal \n",
    "from sklearn.preprocessing import StandardScaler"
   ]
  },
  {
   "cell_type": "code",
   "execution_count": 2,
   "metadata": {},
   "outputs": [],
   "source": [
    "# Load and display each .nii file\n",
    "loaded_images = []\n",
    "for i, image_file in enumerate(image_files):\n",
    "image_path = os.path.join(image_dir, image_file)\n",
    "try:\n",
    "# Load the NIfTI file\n",
    "img = nib.load(image_path)\n",
    "img_data = img.get_fdata() # Get the image data as a NumPy array\n",
    "# Print the shape of the image data\n",
    "print(f\"Image {i+1}: {image_file}, shape: {img_data.shape}\")\n",
    "# Display the middle slice of the 3D image along the first axis\n",
    "middle_slice = img_data[img_data.shape[0] // 2, :, :]\n",
    "plt.figure()\n",
    "plt.imshow(middle_slice.T, cmap=\"gray\", origin=\"lower\")\n",
    "plt.title(f\"Image {i+1}: {image_file} - Middle Slice\")\n",
    "plt.axis(\"off\")\n",
    "plt.show()\n",
    "except Exception as e:\n",
    "print(f\"Error loading image {image_file}: {e}\")\n"
   ]
  },
  {
   "cell_type": "code",
   "execution_count": 3,
   "metadata": {},
   "outputs": [],
   "source": [
    "loaded_images = []\n",
    "for i, image_file in enumerate(image_files):\n",
    "image_path = os.path.join(image_dir, image_file)\n",
    "try:\n",
    "# Load the NIfTI file\n",
    "img = nib.load(image_path)\n",
    "img_data = img.get_fdata()\n",
    "\n",
    "flattened_images = [img.flatten() for img in loaded_images]"
   ]
  },
  {
   "cell_type": "code",
   "execution_count": 4,
   "metadata": {},
   "outputs": [],
   "source": [
    "n_clusters = 2\n",
    "m = 2"
   ]
  },
  {
   "cell_type": "code",
   "execution_count": 5,
   "metadata": {},
   "outputs": [],
   "source": [
    "cntr, u, u0,d,jm,p, fpc = fuzz.cluster.cmeans(\n",
    "    flattened_images.T, n_clusters, m, error=0.005, maxiter=1000, init=None\n",
    ")"
   ]
  },
  {
   "cell_type": "code",
   "execution_count": 6,
   "metadata": {},
   "outputs": [],
   "source": [
    "cluster = np.argmax(u, axis=0)\n",
    "for cluster in range(n_clusters):\n",
    "cluster_size = np.sum(cluster_labels == cluster)\n",
    "print(f\"Cluster {cluster} contains {cluster_size} images.\")"
   ]
  },
  {
   "cell_type": "code",
   "execution_count": 7,
   "metadata": {},
   "outputs": [],
   "source": [
    "for cluster in range(n_cluster):\n",
    "cluster_size = np.sum(cluster_labels == cluster)\n",
    "if cluster_size > 0:\n",
    "plt.figure()\n",
    "cluster_images = np.array(loaded_images)[cluster_labels == cluster]\n",
    "plt.imshow(cluster_images[0][..., cluster_images[0].shape[2] // 2], cmap=\"gray\") # Middle slice\n",
    "plt.title(f\"Cluster {cluster} - Sample Image\")\n",
    "plt.axis(\"off\")\n",
    "plt.show()\n",
    "else:\n",
    "print(f\"Cluster {cluster} is empty.\")"
   ]
  },
  {
   "cell_type": "code",
   "execution_count": 8,
   "metadata": {},
   "outputs": [],
   "source": [
    "def build_cnn_classifier(input_shape):\n",
    "model = models.Sequential()\n",
    "model.add(layers.Conv2D(32, kernel_size=(3, 3), activation='relu', input_shape=input_shape))\n",
    "model.add(layers.MaxPooling2D(pool_size=(2, 2)))\n",
    "model.add(layers.Conv2D(64, kernel_size=(3, 3), activation='relu'))\n",
    "model.add(layers.MaxPooling2D(pool_size=(2, 2)))\n",
    "model.add(layers.Conv2D(128, kernel_size=(3, 3), activation='relu'))\n",
    "model.add(layers.MaxPooling2D(pool_size=(2, 2)))\n",
    "model.add(layers.Flatten())\n",
    "model.add(layers.Dense(128, activation='relu'))\n",
    "model.add(layers.Dense(3, activation='softmax')) # 3 output classes (clusters)\n",
    "model.compile(optimizer='adam', loss='categorical_crossentropy', metrics=['accuracy'])\n",
    "return model\n",
    "\n",
    "generated_labels = tf.keras.utils.to_binary(generated_labels, num_classes=2)\n",
    "\n",
    "cnn_model = build_cnn_classifier(target_shape)\n",
    "\n",
    "cnn_model.fit(generated_images, generated_labels, epochs=10, batch_size=32)\n"
   ]
  },
  {
   "cell_type": "code",
   "execution_count": 9,
   "metadata": {},
   "outputs": [],
   "source": []
  },
  {
   "cell_type": "code",
   "execution_count": 10,
   "metadata": {},
   "outputs": [],
   "source": []
  },
  {
   "cell_type": "code",
   "execution_count": null,
   "metadata": {},
   "outputs": [],
   "source": []
  }
 ],
 "metadata": {
  "kernelspec": {
   "display_name": "Python 3",
   "language": "python",
   "name": "python3"
  },
  "language_info": {
   "codemirror_mode": {
    "name": "ipython",
    "version": 3
   },
   "file_extension": ".py",
   "mimetype": "text/x-python",
   "name": "python",
   "nbconvert_exporter": "python",
   "pygments_lexer": "ipython3",
   "version": "3.7.3"
  }
 },
 "nbformat": 4,
 "nbformat_minor": 2
}
